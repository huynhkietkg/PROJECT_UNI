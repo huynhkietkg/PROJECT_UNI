{
 "cells": [
  {
   "cell_type": "markdown",
   "metadata": {},
   "source": [
    "cau 1:"
   ]
  },
  {
   "cell_type": "code",
   "execution_count": 1,
   "metadata": {},
   "outputs": [
    {
     "name": "stdout",
     "output_type": "stream",
     "text": [
      "✅ Ảnh đã được lưu thành công dưới tên 'kiwi_wave.jpg'\n"
     ]
    }
   ],
   "source": [
    "from PIL import Image\n",
    "import numpy as np\n",
    "from scipy.ndimage import map_coordinates\n",
    "\n",
    "# 1. Đọc ảnh kiwi gốc\n",
    "image = Image.open('kiwi.jpg')  # <-- Đúng tên ảnh gốc ở đây!\n",
    "image_np = np.array(image)\n",
    "\n",
    "# 2. Tịnh tiến ảnh 50px sang phải, 30px xuống\n",
    "height, width = image_np.shape[:2]\n",
    "dx, dy = 50, 30\n",
    "translated_image = np.zeros_like(image_np)\n",
    "translated_image[dy:height, dx:width] = image_np[0:height - dy, 0:width - dx]\n",
    "\n",
    "# 3. Hiệu ứng sóng (wave effect)\n",
    "Y, X = np.meshgrid(np.arange(height), np.arange(width), indexing='ij')\n",
    "amplitude = 10\n",
    "frequency = 2 * np.pi / 64\n",
    "X_wave = X + amplitude * np.sin(frequency * Y)\n",
    "Y_wave = Y\n",
    "\n",
    "# 4. Biến đổi tọa độ\n",
    "warped_image = np.zeros_like(translated_image)\n",
    "for i in range(3):  # RGB\n",
    "    warped_image[..., i] = map_coordinates(translated_image[..., i], [Y_wave, X_wave], order=1, mode='reflect')\n",
    "\n",
    "# 5. Lưu kết quả\n",
    "output = Image.fromarray(warped_image)\n",
    "output.save('kiwi_wave.jpg')\n",
    "print(\"✅ Ảnh đã được lưu thành công dưới tên 'kiwi_wave.jpg'\")\n"
   ]
  },
  {
   "cell_type": "markdown",
   "metadata": {},
   "source": [
    "cau 2:"
   ]
  },
  {
   "cell_type": "code",
   "execution_count": 5,
   "metadata": {},
   "outputs": [
    {
     "name": "stdout",
     "output_type": "stream",
     "text": [
      "✅ Đã lưu ảnh PNG với đu đủ và dưa hấu có gradient màu.\n"
     ]
    }
   ],
   "source": [
    "from PIL import Image\n",
    "import numpy as np\n",
    "\n",
    "def apply_gradient_color(image, color_start, color_end):\n",
    "    \"\"\"\n",
    "    Áp dụng gradient màu lên đối tượng ảnh (theo trục dọc).\n",
    "    `color_start` và `color_end` là tuple RGB.\n",
    "    \"\"\"\n",
    "    image = image.convert(\"RGBA\")\n",
    "    arr = np.array(image)\n",
    "    mask = arr[..., 3] > 0  # Lấy phần có alpha > 0 (đối tượng)\n",
    "\n",
    "    height = arr.shape[0]\n",
    "    gradient = np.linspace(np.array(color_start), np.array(color_end), height).astype(np.uint8)\n",
    "\n",
    "    for y in range(height):\n",
    "        arr[y, mask[y], :3] = gradient[y]\n",
    "\n",
    "    return Image.fromarray(arr)\n",
    "\n",
    "# 1. Đọc ảnh đu đủ và dưa hấu (ảnh PNG có nền trong hoặc đã được xóa nền)\n",
    "papaya = Image.open('papaya.png').convert(\"RGBA\")\n",
    "watermelon = Image.open('watermelon.png').convert(\"RGBA\")\n",
    "\n",
    "# 2. Đổi màu:\n",
    "# Papaya: đỏ → xanh lá (RGB: (255,0,0) → (0,255,0))\n",
    "papaya_colored = apply_gradient_color(papaya, (255, 0, 0), (0, 255, 0))\n",
    "\n",
    "# Watermelon: vàng → tím (RGB: (255,255,0) → (128, 0, 128))\n",
    "watermelon_colored = apply_gradient_color(watermelon, (255, 255, 0), (128, 0, 128))\n",
    "\n",
    "# 3. Tạo nền trong suốt đủ lớn để ghép cả 2 quả\n",
    "canvas_width = papaya_colored.width + watermelon_colored.width\n",
    "canvas_height = max(papaya_colored.height, watermelon_colored.height)\n",
    "background = Image.new(\"RGBA\", (canvas_width, canvas_height), (0, 0, 0, 0))\n",
    "\n",
    "# 4. Ghép ảnh\n",
    "background.paste(papaya_colored, (0, 0), papaya_colored)\n",
    "background.paste(watermelon_colored, (papaya_colored.width, 0), watermelon_colored)\n",
    "\n",
    "# 5. Lưu ảnh\n",
    "background.save(\"fruits_combined.png\")\n",
    "print(\"✅ Đã lưu ảnh PNG với đu đủ và dưa hấu có gradient màu.\")\n"
   ]
  },
  {
   "cell_type": "markdown",
   "metadata": {},
   "source": [
    "Cau 3:"
   ]
  },
  {
   "cell_type": "code",
   "execution_count": 7,
   "metadata": {},
   "outputs": [
    {
     "name": "stdout",
     "output_type": "stream",
     "text": [
      "✅ Đã lưu ảnh thành công: mountain_boat_mirror.jpg\n"
     ]
    }
   ],
   "source": [
    "from PIL import Image\n",
    "import numpy as np\n",
    "from scipy.ndimage import rotate\n",
    "\n",
    "# 1. Đọc ảnh núi và thuyền\n",
    "mountain = Image.open(\"mountain.jpg\").convert(\"RGB\")\n",
    "boat = Image.open(\"boat.jpg\").convert(\"RGB\")\n",
    "\n",
    "# 2. Resize cả hai ảnh về cùng kích thước (ví dụ 400x400)\n",
    "target_size = (400, 400)\n",
    "mountain = mountain.resize(target_size)\n",
    "boat = boat.resize(target_size)\n",
    "\n",
    "# 3. Xoay 45 độ (giữ kích thước gốc)\n",
    "mountain_np = np.array(mountain)\n",
    "boat_np = np.array(boat)\n",
    "\n",
    "mountain_rotated = rotate(mountain_np, angle=45, reshape=False, mode='nearest')\n",
    "boat_rotated = rotate(boat_np, angle=45, reshape=False, mode='nearest')\n",
    "\n",
    "# 4. Phản chiếu dọc (vertical flip)\n",
    "mountain_mirrored = np.flipud(mountain_rotated)\n",
    "boat_mirrored = np.flipud(boat_rotated)\n",
    "\n",
    "# 5. Tạo canvas trắng và ghép ảnh\n",
    "h, w = mountain_mirrored.shape[:2]\n",
    "canvas = np.ones((h, w * 2, 3), dtype=np.uint8) * 255  # Nền trắng\n",
    "\n",
    "canvas[:, :w] = mountain_mirrored\n",
    "canvas[:, w:] = boat_mirrored\n",
    "\n",
    "# 6. Lưu kết quả\n",
    "result = Image.fromarray(canvas)\n",
    "result.save(\"mountain_boat_mirror.jpg\")\n",
    "print(\"✅ Đã lưu ảnh thành công: mountain_boat_mirror.jpg\")\n"
   ]
  },
  {
   "cell_type": "markdown",
   "metadata": {},
   "source": [
    "Cau 4:"
   ]
  },
  {
   "cell_type": "code",
   "execution_count": 1,
   "metadata": {},
   "outputs": [
    {
     "name": "stdout",
     "output_type": "stream",
     "text": [
      "✅ Đã lưu ảnh ngôi chùa đã uốn cong vào 'pagoda_warped.jpg'\n"
     ]
    }
   ],
   "source": [
    "from PIL import Image\n",
    "import numpy as np\n",
    "from scipy.ndimage import map_coordinates\n",
    "\n",
    "# 1. Đọc ảnh ngôi chùa\n",
    "image = Image.open(\"pagoda.jpg\").convert(\"RGB\")\n",
    "\n",
    "# 2. Phóng to ảnh lên 5 lần\n",
    "scale = 5\n",
    "image_large = image.resize((image.width * scale, image.height * scale), resample=Image.BICUBIC)\n",
    "image_np = np.array(image_large)\n",
    "\n",
    "# 3. Áp dụng biến đổi hình học để tạo hiệu ứng \"uốn cong\"\n",
    "height, width = image_np.shape[:2]\n",
    "\n",
    "# Tạo lưới tọa độ\n",
    "Y, X = np.meshgrid(np.arange(height), np.arange(width), indexing='ij')\n",
    "\n",
    "# Biến đổi dạng \"uốn cong\" ngang theo sin trên trục dọc\n",
    "# X lệch theo sin(Y)\n",
    "amplitude = 30  # độ cong\n",
    "frequency = 2 * np.pi / 200\n",
    "X_warp = X + amplitude * np.sin(frequency * Y)\n",
    "Y_warp = Y\n",
    "\n",
    "# 4. Warping ảnh bằng map_coordinates\n",
    "warped = np.zeros_like(image_np)\n",
    "for i in range(3):  # RGB\n",
    "    warped[..., i] = map_coordinates(image_np[..., i], [Y_warp, X_warp], order=1, mode='reflect')\n",
    "\n",
    "# 5. Lưu ảnh kết quả\n",
    "result = Image.fromarray(warped)\n",
    "result.save(\"pagoda_warped.jpg\")\n",
    "print(\"✅ Đã lưu ảnh ngôi chùa đã uốn cong vào 'pagoda_warped.jpg'\")\n"
   ]
  },
  {
   "cell_type": "markdown",
   "metadata": {},
   "source": [
    "Cau 5:"
   ]
  },
  {
   "cell_type": "code",
   "execution_count": 7,
   "metadata": {},
   "outputs": [
    {
     "name": "stdout",
     "output_type": "stream",
     "text": [
      "Chọn ảnh (1: image1.jpg, 2: image2.jpg, 3: image3.jpg):\n",
      "Tệp không tìm thấy!\n"
     ]
    }
   ],
   "source": [
    "from PIL import Image, ImageFilter\n",
    "import numpy as np\n",
    "\n",
    "def translate_image(image, x_offset, y_offset):\n",
    "    return image.transform(image.size, Image.AFFINE, (1, 0, x_offset, 0, 1, y_offset))\n",
    "\n",
    "def rotate_image(image, angle, reshape):\n",
    "    return image.rotate(angle, expand=reshape)\n",
    "\n",
    "def zoom_image(image, zoom_factor):\n",
    "    width, height = image.size\n",
    "    new_size = (int(width * zoom_factor), int(height * zoom_factor))\n",
    "    return image.resize(new_size, Image.LANCZOS)\n",
    "\n",
    "def gaussian_blur(image, sigma):\n",
    "    return image.filter(ImageFilter.GaussianBlur(sigma))\n",
    "\n",
    "def wave_transform(image, amplitude):\n",
    "    img_array = np.array(image)\n",
    "    rows, cols, channels = img_array.shape\n",
    "    for i in range(rows):\n",
    "        img_array[i] = np.roll(img_array[i], int(amplitude * np.sin(2 * np.pi * i / 20)), axis=0)\n",
    "    return Image.fromarray(img_array)\n",
    "\n",
    "def main():\n",
    "    print(\"Chọn ảnh (1: image1.jpg, 2: image2.jpg, 3: image3.jpg):\")\n",
    "    choice = input(\"Nhập số (1, 2 hoặc 3): \")\n",
    "    image_path = f\"image{choice}.jpg\"\n",
    "    \n",
    "    try:\n",
    "        image = Image.open(image_path).convert(\"RGBA\")\n",
    "    except FileNotFoundError:\n",
    "        print(\"Tệp không tìm thấy!\")\n",
    "        return\n",
    "\n",
    "    while True:\n",
    "        print(\"\\nChọn phép biến đổi:\")\n",
    "        print(\"1: Tịnh tiến\")\n",
    "        print(\"2: Xoay\")\n",
    "        print(\"3: Phóng to/thu nhỏ\")\n",
    "        print(\"4: Làm mờ Gaussian\")\n",
    "        print(\"5: Biến đổi sóng\")\n",
    "        print(\"0: Thoát\")\n",
    "        \n",
    "        option = input(\"Nhập số lựa chọn: \")\n",
    "        \n",
    "        if option == '1':\n",
    "            x_offset = int(input(\"Nhập số pixel di chuyển theo x: \"))\n",
    "            y_offset = int(input(\"Nhập số pixel di chuyển theo y: \"))\n",
    "            image = translate_image(image, x_offset, y_offset)\n",
    "        \n",
    "        elif option == '2':\n",
    "            angle = float(input(\"Nhập góc xoay (độ): \"))\n",
    "            reshape = input(\"Có muốn thay đổi kích thước không? (y/n): \") == 'y'\n",
    "            image = rotate_image(image, angle, reshape)\n",
    "        \n",
    "        elif option == '3':\n",
    "            zoom_factor = float(input(\"Nhập hệ số phóng to/thu nhỏ: \"))\n",
    "            image = zoom_image(image, zoom_factor)\n",
    "        \n",
    "        elif option == '4':\n",
    "            sigma = float(input(\"Nhập giá trị sigma cho làm mờ Gaussian: \"))\n",
    "            image = gaussian_blur(image, sigma)\n",
    "        \n",
    "        elif option == '5':\n",
    "            amplitude = float(input(\"Nhập biên độ sóng: \"))\n",
    "            image = wave_transform(image, amplitude)\n",
    "        \n",
    "        elif option == '0':\n",
    "            break\n",
    "        \n",
    "        else:\n",
    "            print(\"Lựa chọn không hợp lệ! Vui lòng thử lại.\")\n",
    "        \n",
    "        # Lưu ảnh kết quả\n",
    "        image.save(\"output_image.png\")\n",
    "        print(\"Đã lưu ảnh kết quả dưới tên 'output_image.png'.\")\n",
    "\n",
    "if __name__ == \"__main__\":\n",
    "    main()"
   ]
  }
 ],
 "metadata": {
  "kernelspec": {
   "display_name": "Python 3",
   "language": "python",
   "name": "python3"
  },
  "language_info": {
   "codemirror_mode": {
    "name": "ipython",
    "version": 3
   },
   "file_extension": ".py",
   "mimetype": "text/x-python",
   "name": "python",
   "nbconvert_exporter": "python",
   "pygments_lexer": "ipython3",
   "version": "3.12.4"
  }
 },
 "nbformat": 4,
 "nbformat_minor": 2
}
