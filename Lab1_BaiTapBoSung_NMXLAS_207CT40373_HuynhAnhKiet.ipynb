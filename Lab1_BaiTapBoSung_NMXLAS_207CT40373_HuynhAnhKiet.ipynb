{
 "cells": [
  {
   "cell_type": "code",
   "execution_count": 3,
   "metadata": {},
   "outputs": [
    {
     "name": "stdout",
     "output_type": "stream",
     "text": [
      "Defaulting to user installation because normal site-packages is not writeable\n",
      "Requirement already satisfied: imageio in c:\\users\\us\\appdata\\roaming\\python\\python312\\site-packages (2.37.0)\n",
      "Requirement already satisfied: numpy in c:\\users\\us\\appdata\\roaming\\python\\python312\\site-packages (from imageio) (2.2.6)\n",
      "Requirement already satisfied: pillow>=8.3.2 in c:\\users\\us\\appdata\\roaming\\python\\python312\\site-packages (from imageio) (11.2.1)\n",
      "Note: you may need to restart the kernel to use updated packages.\n"
     ]
    },
    {
     "name": "stderr",
     "output_type": "stream",
     "text": [
      "\n",
      "[notice] A new release of pip is available: 24.0 -> 25.1.1\n",
      "[notice] To update, run: python.exe -m pip install --upgrade pip\n"
     ]
    },
    {
     "name": "stdout",
     "output_type": "stream",
     "text": [
      "Defaulting to user installation because normal site-packages is not writeable\n",
      "Requirement already satisfied: scipy in c:\\users\\us\\appdata\\roaming\\python\\python312\\site-packages (1.15.3)\n",
      "Requirement already satisfied: numpy<2.5,>=1.23.5 in c:\\users\\us\\appdata\\roaming\\python\\python312\\site-packages (from scipy) (2.2.6)\n",
      "Note: you may need to restart the kernel to use updated packages.\n"
     ]
    },
    {
     "name": "stderr",
     "output_type": "stream",
     "text": [
      "\n",
      "[notice] A new release of pip is available: 24.0 -> 25.1.1\n",
      "[notice] To update, run: python.exe -m pip install --upgrade pip\n"
     ]
    },
    {
     "name": "stdout",
     "output_type": "stream",
     "text": [
      "Defaulting to user installation because normal site-packages is not writeable\n",
      "Requirement already satisfied: scikit-image in c:\\users\\us\\appdata\\roaming\\python\\python312\\site-packages (0.25.2)\n",
      "Requirement already satisfied: numpy>=1.24 in c:\\users\\us\\appdata\\roaming\\python\\python312\\site-packages (from scikit-image) (2.2.6)\n",
      "Requirement already satisfied: scipy>=1.11.4 in c:\\users\\us\\appdata\\roaming\\python\\python312\\site-packages (from scikit-image) (1.15.3)\n",
      "Requirement already satisfied: networkx>=3.0 in c:\\users\\us\\appdata\\roaming\\python\\python312\\site-packages (from scikit-image) (3.4.2)\n",
      "Requirement already satisfied: pillow>=10.1 in c:\\users\\us\\appdata\\roaming\\python\\python312\\site-packages (from scikit-image) (11.2.1)\n",
      "Requirement already satisfied: imageio!=2.35.0,>=2.33 in c:\\users\\us\\appdata\\roaming\\python\\python312\\site-packages (from scikit-image) (2.37.0)\n",
      "Requirement already satisfied: tifffile>=2022.8.12 in c:\\users\\us\\appdata\\roaming\\python\\python312\\site-packages (from scikit-image) (2025.5.10)\n",
      "Requirement already satisfied: packaging>=21 in c:\\users\\us\\appdata\\roaming\\python\\python312\\site-packages (from scikit-image) (25.0)\n",
      "Requirement already satisfied: lazy-loader>=0.4 in c:\\users\\us\\appdata\\roaming\\python\\python312\\site-packages (from scikit-image) (0.4)\n",
      "Note: you may need to restart the kernel to use updated packages.\n"
     ]
    },
    {
     "name": "stderr",
     "output_type": "stream",
     "text": [
      "\n",
      "[notice] A new release of pip is available: 24.0 -> 25.1.1\n",
      "[notice] To update, run: python.exe -m pip install --upgrade pip\n"
     ]
    }
   ],
   "source": [
    "%pip install imageio\n",
    "%pip install scipy\n",
    "%pip install scikit-image"
   ]
  },
  {
   "cell_type": "code",
   "execution_count": 1,
   "metadata": {},
   "outputs": [
    {
     "name": "stdout",
     "output_type": "stream",
     "text": [
      "Defaulting to user installation because normal site-packages is not writeable\n",
      "Requirement already satisfied: opencv-python in c:\\users\\us\\appdata\\roaming\\python\\python312\\site-packages (4.11.0.86)\n",
      "Requirement already satisfied: numpy>=1.21.2 in c:\\users\\us\\appdata\\roaming\\python\\python312\\site-packages (from opencv-python) (2.2.6)\n",
      "Note: you may need to restart the kernel to use updated packages.\n"
     ]
    },
    {
     "name": "stderr",
     "output_type": "stream",
     "text": [
      "\n",
      "[notice] A new release of pip is available: 24.0 -> 25.1.1\n",
      "[notice] To update, run: python.exe -m pip install --upgrade pip\n"
     ]
    }
   ],
   "source": [
    "pip install opencv-python"
   ]
  },
  {
   "cell_type": "code",
   "execution_count": 7,
   "metadata": {},
   "outputs": [],
   "source": [
    "#Câu 5:\n",
    "import cv2\n",
    "import numpy as np\n",
    "import os\n",
    "import random\n",
    "from matplotlib import pyplot as plt\n",
    "\n",
    "input_folder = 'Exercise'\n",
    "output_folder = 'Output'\n",
    "os.makedirs(output_folder, exist_ok=True)\n",
    "\n",
    "image_files = [f for f in os.listdir(input_folder) if f.endswith(('.png', '.jpg', '.jpeg'))]"
   ]
  },
  {
   "cell_type": "code",
   "execution_count": 3,
   "metadata": {},
   "outputs": [],
   "source": [
    "# Câu 6:\n",
    "def apply_denoise_filters(image):\n",
    "    filters = {\n",
    "        'Gaussian': cv2.GaussianBlur(image, (5, 5), 0),\n",
    "        'Median': cv2.medianBlur(image, 5),\n",
    "        'Bilateral': cv2.bilateralFilter(image, 9, 75, 75)\n",
    "    }\n",
    "    return filters\n",
    "\n",
    "for file in image_files:\n",
    "    img = cv2.imread(os.path.join(input_folder, file))\n",
    "    denoised = apply_denoise_filters(img)\n",
    "    for name, result in denoised.items():\n",
    "        out_path = os.path.join(output_folder, f'{os.path.splitext(file)[0]}_{name}.jpg')\n",
    "        cv2.imwrite(out_path, result)"
   ]
  },
  {
   "cell_type": "code",
   "execution_count": 4,
   "metadata": {},
   "outputs": [],
   "source": [
    "# Câu 7: \n",
    "for file in image_files:\n",
    "    img = cv2.imread(os.path.join(input_folder, file))\n",
    "    blur = cv2.medianBlur(img, 5)\n",
    "    gray = cv2.cvtColor(blur, cv2.COLOR_BGR2GRAY)\n",
    "    edges = cv2.Canny(gray, 100, 200)\n",
    "    out_path = os.path.join(output_folder, f'{os.path.splitext(file)[0]}_edges.jpg')\n",
    "    cv2.imwrite(out_path, edges)"
   ]
  },
  {
   "cell_type": "code",
   "execution_count": 5,
   "metadata": {},
   "outputs": [],
   "source": [
    "# Câu 8: \n",
    "for file in image_files:\n",
    "    img = cv2.imread(os.path.join(input_folder, file))\n",
    "    blur = cv2.medianBlur(img, 5)\n",
    "    rand_color = np.random.randint(0, 256, size=3)\n",
    "    colored = np.zeros_like(blur)\n",
    "    for i in range(3):\n",
    "        colored[:, :, i] = (blur[:, :, i] * rand_color[i] / 255).astype(np.uint8)\n",
    "    out_path = os.path.join(output_folder, f'{os.path.splitext(file)[0]}_randomRGB.jpg')\n",
    "    cv2.imwrite(out_path, colored)"
   ]
  },
  {
   "cell_type": "code",
   "execution_count": 6,
   "metadata": {},
   "outputs": [],
   "source": [
    "# Câu 9:\n",
    "used_hues = set()\n",
    "\n",
    "for file in image_files:\n",
    "    img = cv2.imread(os.path.join(input_folder, file))\n",
    "    blur = cv2.medianBlur(img, 5)\n",
    "    hsv = cv2.cvtColor(blur, cv2.COLOR_BGR2HSV)\n",
    "    h = random.randint(0, 179)\n",
    "    while h in used_hues:\n",
    "        h = random.randint(0, 179)\n",
    "    used_hues.add(h)\n",
    "    hsv[:, :, 0] = h\n",
    "    new_img = cv2.cvtColor(hsv, cv2.COLOR_HSV2BGR)\n",
    "    out_path = os.path.join(output_folder, f'{os.path.splitext(file)[0]}_randomHSV.jpg')\n",
    "    cv2.imwrite(out_path, new_img)"
   ]
  }
 ],
 "metadata": {
  "kernelspec": {
   "display_name": "Python 3",
   "language": "python",
   "name": "python3"
  },
  "language_info": {
   "codemirror_mode": {
    "name": "ipython",
    "version": 3
   },
   "file_extension": ".py",
   "mimetype": "text/x-python",
   "name": "python",
   "nbconvert_exporter": "python",
   "pygments_lexer": "ipython3",
   "version": "3.12.4"
  }
 },
 "nbformat": 4,
 "nbformat_minor": 2
}
